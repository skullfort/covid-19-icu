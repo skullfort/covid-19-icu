{
 "cells": [
  {
   "cell_type": "code",
   "execution_count": 4,
   "id": "b8a21ea0",
   "metadata": {},
   "outputs": [],
   "source": [
    "import pandas as pd"
   ]
  },
  {
   "cell_type": "code",
   "execution_count": 5,
   "id": "58e6fc9b",
   "metadata": {},
   "outputs": [],
   "source": [
    "region_icu_csv = \"../Data/region_hospital_icu_covid_data.csv\""
   ]
  },
  {
   "cell_type": "code",
   "execution_count": 6,
   "id": "95882109",
   "metadata": {},
   "outputs": [],
   "source": [
    "region_icu_df = pd.read_csv(region_icu_csv)"
   ]
  },
  {
   "cell_type": "code",
   "execution_count": 7,
   "id": "6ebc9944",
   "metadata": {},
   "outputs": [
    {
     "data": {
      "text/html": [
       "<div>\n",
       "<style scoped>\n",
       "    .dataframe tbody tr th:only-of-type {\n",
       "        vertical-align: middle;\n",
       "    }\n",
       "\n",
       "    .dataframe tbody tr th {\n",
       "        vertical-align: top;\n",
       "    }\n",
       "\n",
       "    .dataframe thead th {\n",
       "        text-align: right;\n",
       "    }\n",
       "</style>\n",
       "<table border=\"1\" class=\"dataframe\">\n",
       "  <thead>\n",
       "    <tr style=\"text-align: right;\">\n",
       "      <th></th>\n",
       "      <th>date</th>\n",
       "      <th>oh_region</th>\n",
       "      <th>icu_current_covid</th>\n",
       "      <th>icu_current_covid_vented</th>\n",
       "      <th>hospitalizations</th>\n",
       "      <th>icu_crci_total</th>\n",
       "      <th>icu_crci_total_vented</th>\n",
       "      <th>icu_former_covid</th>\n",
       "      <th>icu_former_covid_vented</th>\n",
       "    </tr>\n",
       "  </thead>\n",
       "  <tbody>\n",
       "    <tr>\n",
       "      <th>0</th>\n",
       "      <td>2020-04-02</td>\n",
       "      <td>CENTRAL</td>\n",
       "      <td>51</td>\n",
       "      <td>39</td>\n",
       "      <td>113</td>\n",
       "      <td>0</td>\n",
       "      <td>0</td>\n",
       "      <td>0</td>\n",
       "      <td>0</td>\n",
       "    </tr>\n",
       "    <tr>\n",
       "      <th>1</th>\n",
       "      <td>2020-04-03</td>\n",
       "      <td>CENTRAL</td>\n",
       "      <td>57</td>\n",
       "      <td>52</td>\n",
       "      <td>141</td>\n",
       "      <td>0</td>\n",
       "      <td>0</td>\n",
       "      <td>0</td>\n",
       "      <td>0</td>\n",
       "    </tr>\n",
       "    <tr>\n",
       "      <th>2</th>\n",
       "      <td>2020-04-04</td>\n",
       "      <td>CENTRAL</td>\n",
       "      <td>65</td>\n",
       "      <td>57</td>\n",
       "      <td>143</td>\n",
       "      <td>0</td>\n",
       "      <td>0</td>\n",
       "      <td>0</td>\n",
       "      <td>0</td>\n",
       "    </tr>\n",
       "    <tr>\n",
       "      <th>3</th>\n",
       "      <td>2020-04-05</td>\n",
       "      <td>CENTRAL</td>\n",
       "      <td>65</td>\n",
       "      <td>55</td>\n",
       "      <td>174</td>\n",
       "      <td>0</td>\n",
       "      <td>0</td>\n",
       "      <td>0</td>\n",
       "      <td>0</td>\n",
       "    </tr>\n",
       "    <tr>\n",
       "      <th>4</th>\n",
       "      <td>2020-04-06</td>\n",
       "      <td>CENTRAL</td>\n",
       "      <td>73</td>\n",
       "      <td>58</td>\n",
       "      <td>187</td>\n",
       "      <td>0</td>\n",
       "      <td>0</td>\n",
       "      <td>0</td>\n",
       "      <td>0</td>\n",
       "    </tr>\n",
       "  </tbody>\n",
       "</table>\n",
       "</div>"
      ],
      "text/plain": [
       "         date oh_region  icu_current_covid  icu_current_covid_vented  \\\n",
       "0  2020-04-02   CENTRAL                 51                        39   \n",
       "1  2020-04-03   CENTRAL                 57                        52   \n",
       "2  2020-04-04   CENTRAL                 65                        57   \n",
       "3  2020-04-05   CENTRAL                 65                        55   \n",
       "4  2020-04-06   CENTRAL                 73                        58   \n",
       "\n",
       "   hospitalizations  icu_crci_total  icu_crci_total_vented  icu_former_covid  \\\n",
       "0               113               0                      0                 0   \n",
       "1               141               0                      0                 0   \n",
       "2               143               0                      0                 0   \n",
       "3               174               0                      0                 0   \n",
       "4               187               0                      0                 0   \n",
       "\n",
       "   icu_former_covid_vented  \n",
       "0                        0  \n",
       "1                        0  \n",
       "2                        0  \n",
       "3                        0  \n",
       "4                        0  "
      ]
     },
     "execution_count": 7,
     "metadata": {},
     "output_type": "execute_result"
    }
   ],
   "source": [
    "region_icu_df.head()"
   ]
  },
  {
   "cell_type": "code",
   "execution_count": 8,
   "id": "0484ab3f",
   "metadata": {},
   "outputs": [
    {
     "data": {
      "text/plain": [
       "Index(['date', 'oh_region', 'icu_current_covid', 'icu_current_covid_vented',\n",
       "       'hospitalizations', 'icu_crci_total', 'icu_crci_total_vented',\n",
       "       'icu_former_covid', 'icu_former_covid_vented'],\n",
       "      dtype='object')"
      ]
     },
     "execution_count": 8,
     "metadata": {},
     "output_type": "execute_result"
    }
   ],
   "source": [
    "region_icu_df.columns = region_icu_df.columns.unique()\n",
    "region_icu_df.columns"
   ]
  },
  {
   "cell_type": "code",
   "execution_count": 9,
   "id": "7a61706f",
   "metadata": {},
   "outputs": [
    {
     "data": {
      "text/plain": [
       "array(['CENTRAL', 'EAST', 'NORTH', 'TORONTO', 'WEST'], dtype=object)"
      ]
     },
     "execution_count": 9,
     "metadata": {},
     "output_type": "execute_result"
    }
   ],
   "source": [
    "region_icu_df.oh_region.unique()"
   ]
  },
  {
   "cell_type": "code",
   "execution_count": null,
   "id": "c00d9771",
   "metadata": {},
   "outputs": [],
   "source": []
  },
  {
   "cell_type": "code",
   "execution_count": 10,
   "id": "5feb410d",
   "metadata": {},
   "outputs": [],
   "source": [
    "regions = ['CENTRAL', 'EAST', 'NORTH', 'TORONTO', 'WEST']\n"
   ]
  },
  {
   "cell_type": "code",
   "execution_count": null,
   "id": "c7bb5bde",
   "metadata": {},
   "outputs": [],
   "source": []
  }
 ],
 "metadata": {
  "kernelspec": {
   "display_name": "Python 3 (ipykernel)",
   "language": "python",
   "name": "python3"
  },
  "language_info": {
   "codemirror_mode": {
    "name": "ipython",
    "version": 3
   },
   "file_extension": ".py",
   "mimetype": "text/x-python",
   "name": "python",
   "nbconvert_exporter": "python",
   "pygments_lexer": "ipython3",
   "version": "3.9.13"
  }
 },
 "nbformat": 4,
 "nbformat_minor": 5
}
