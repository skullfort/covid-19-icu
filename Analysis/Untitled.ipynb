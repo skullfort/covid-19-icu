{
 "cells": [
  {
   "cell_type": "code",
   "execution_count": 43,
   "id": "b8a21ea0",
   "metadata": {},
   "outputs": [],
   "source": [
    "import pandas as pd\n",
    "import matplotlib.pyplot as plt\n",
    "from numpy import genfromtxt\n",
    "import csv\n",
    "import datetime"
   ]
  },
  {
   "cell_type": "code",
   "execution_count": 44,
   "id": "58e6fc9b",
   "metadata": {},
   "outputs": [],
   "source": [
    "region_icu_csv = \"../Data/region_hospital_icu_covid_data.csv\""
   ]
  },
  {
   "cell_type": "code",
   "execution_count": 45,
   "id": "95882109",
   "metadata": {},
   "outputs": [],
   "source": [
    "region_icu_df = pd.read_csv(region_icu_csv)"
   ]
  },
  {
   "cell_type": "code",
   "execution_count": 46,
   "id": "6ebc9944",
   "metadata": {},
   "outputs": [
    {
     "data": {
      "text/html": [
       "<div>\n",
       "<style scoped>\n",
       "    .dataframe tbody tr th:only-of-type {\n",
       "        vertical-align: middle;\n",
       "    }\n",
       "\n",
       "    .dataframe tbody tr th {\n",
       "        vertical-align: top;\n",
       "    }\n",
       "\n",
       "    .dataframe thead th {\n",
       "        text-align: right;\n",
       "    }\n",
       "</style>\n",
       "<table border=\"1\" class=\"dataframe\">\n",
       "  <thead>\n",
       "    <tr style=\"text-align: right;\">\n",
       "      <th></th>\n",
       "      <th>date</th>\n",
       "      <th>oh_region</th>\n",
       "      <th>icu_current_covid</th>\n",
       "      <th>icu_current_covid_vented</th>\n",
       "      <th>hospitalizations</th>\n",
       "      <th>icu_crci_total</th>\n",
       "      <th>icu_crci_total_vented</th>\n",
       "      <th>icu_former_covid</th>\n",
       "      <th>icu_former_covid_vented</th>\n",
       "    </tr>\n",
       "  </thead>\n",
       "  <tbody>\n",
       "    <tr>\n",
       "      <th>0</th>\n",
       "      <td>2020-04-02</td>\n",
       "      <td>CENTRAL</td>\n",
       "      <td>51</td>\n",
       "      <td>39</td>\n",
       "      <td>113</td>\n",
       "      <td>0</td>\n",
       "      <td>0</td>\n",
       "      <td>0</td>\n",
       "      <td>0</td>\n",
       "    </tr>\n",
       "    <tr>\n",
       "      <th>1</th>\n",
       "      <td>2020-04-03</td>\n",
       "      <td>CENTRAL</td>\n",
       "      <td>57</td>\n",
       "      <td>52</td>\n",
       "      <td>141</td>\n",
       "      <td>0</td>\n",
       "      <td>0</td>\n",
       "      <td>0</td>\n",
       "      <td>0</td>\n",
       "    </tr>\n",
       "    <tr>\n",
       "      <th>2</th>\n",
       "      <td>2020-04-04</td>\n",
       "      <td>CENTRAL</td>\n",
       "      <td>65</td>\n",
       "      <td>57</td>\n",
       "      <td>143</td>\n",
       "      <td>0</td>\n",
       "      <td>0</td>\n",
       "      <td>0</td>\n",
       "      <td>0</td>\n",
       "    </tr>\n",
       "    <tr>\n",
       "      <th>3</th>\n",
       "      <td>2020-04-05</td>\n",
       "      <td>CENTRAL</td>\n",
       "      <td>65</td>\n",
       "      <td>55</td>\n",
       "      <td>174</td>\n",
       "      <td>0</td>\n",
       "      <td>0</td>\n",
       "      <td>0</td>\n",
       "      <td>0</td>\n",
       "    </tr>\n",
       "    <tr>\n",
       "      <th>4</th>\n",
       "      <td>2020-04-06</td>\n",
       "      <td>CENTRAL</td>\n",
       "      <td>73</td>\n",
       "      <td>58</td>\n",
       "      <td>187</td>\n",
       "      <td>0</td>\n",
       "      <td>0</td>\n",
       "      <td>0</td>\n",
       "      <td>0</td>\n",
       "    </tr>\n",
       "  </tbody>\n",
       "</table>\n",
       "</div>"
      ],
      "text/plain": [
       "         date oh_region  icu_current_covid  icu_current_covid_vented  \\\n",
       "0  2020-04-02   CENTRAL                 51                        39   \n",
       "1  2020-04-03   CENTRAL                 57                        52   \n",
       "2  2020-04-04   CENTRAL                 65                        57   \n",
       "3  2020-04-05   CENTRAL                 65                        55   \n",
       "4  2020-04-06   CENTRAL                 73                        58   \n",
       "\n",
       "   hospitalizations  icu_crci_total  icu_crci_total_vented  icu_former_covid  \\\n",
       "0               113               0                      0                 0   \n",
       "1               141               0                      0                 0   \n",
       "2               143               0                      0                 0   \n",
       "3               174               0                      0                 0   \n",
       "4               187               0                      0                 0   \n",
       "\n",
       "   icu_former_covid_vented  \n",
       "0                        0  \n",
       "1                        0  \n",
       "2                        0  \n",
       "3                        0  \n",
       "4                        0  "
      ]
     },
     "execution_count": 46,
     "metadata": {},
     "output_type": "execute_result"
    }
   ],
   "source": [
    "region_icu_df.head()"
   ]
  },
  {
   "cell_type": "code",
   "execution_count": 47,
   "id": "0484ab3f",
   "metadata": {},
   "outputs": [
    {
     "data": {
      "text/plain": [
       "Index(['date', 'oh_region', 'icu_current_covid', 'icu_current_covid_vented',\n",
       "       'hospitalizations', 'icu_crci_total', 'icu_crci_total_vented',\n",
       "       'icu_former_covid', 'icu_former_covid_vented'],\n",
       "      dtype='object')"
      ]
     },
     "execution_count": 47,
     "metadata": {},
     "output_type": "execute_result"
    }
   ],
   "source": [
    "region_icu_df.columns = region_icu_df.columns.unique()\n",
    "region_icu_df.columns"
   ]
  },
  {
   "cell_type": "code",
   "execution_count": 48,
   "id": "7a61706f",
   "metadata": {},
   "outputs": [
    {
     "data": {
      "text/plain": [
       "array(['CENTRAL', 'EAST', 'NORTH', 'TORONTO', 'WEST'], dtype=object)"
      ]
     },
     "execution_count": 48,
     "metadata": {},
     "output_type": "execute_result"
    }
   ],
   "source": [
    "region_icu_df.oh_region.unique()"
   ]
  },
  {
   "cell_type": "code",
   "execution_count": 49,
   "id": "c7bb5bde",
   "metadata": {},
   "outputs": [
    {
     "data": {
      "text/html": [
       "<div>\n",
       "<style scoped>\n",
       "    .dataframe tbody tr th:only-of-type {\n",
       "        vertical-align: middle;\n",
       "    }\n",
       "\n",
       "    .dataframe tbody tr th {\n",
       "        vertical-align: top;\n",
       "    }\n",
       "\n",
       "    .dataframe thead th {\n",
       "        text-align: right;\n",
       "    }\n",
       "</style>\n",
       "<table border=\"1\" class=\"dataframe\">\n",
       "  <thead>\n",
       "    <tr style=\"text-align: right;\">\n",
       "      <th></th>\n",
       "      <th>icu_current_covid</th>\n",
       "      <th>icu_current_covid_vented</th>\n",
       "      <th>hospitalizations</th>\n",
       "      <th>icu_crci_total</th>\n",
       "      <th>icu_crci_total_vented</th>\n",
       "      <th>icu_former_covid</th>\n",
       "      <th>icu_former_covid_vented</th>\n",
       "    </tr>\n",
       "    <tr>\n",
       "      <th>oh_region</th>\n",
       "      <th></th>\n",
       "      <th></th>\n",
       "      <th></th>\n",
       "      <th></th>\n",
       "      <th></th>\n",
       "      <th></th>\n",
       "      <th></th>\n",
       "    </tr>\n",
       "  </thead>\n",
       "  <tbody>\n",
       "    <tr>\n",
       "      <th>CENTRAL</th>\n",
       "      <td>58280</td>\n",
       "      <td>37655</td>\n",
       "      <td>284376</td>\n",
       "      <td>62731</td>\n",
       "      <td>39960</td>\n",
       "      <td>6881</td>\n",
       "      <td>4257</td>\n",
       "    </tr>\n",
       "    <tr>\n",
       "      <th>EAST</th>\n",
       "      <td>42420</td>\n",
       "      <td>24104</td>\n",
       "      <td>193348</td>\n",
       "      <td>46877</td>\n",
       "      <td>25977</td>\n",
       "      <td>5815</td>\n",
       "      <td>2928</td>\n",
       "    </tr>\n",
       "    <tr>\n",
       "      <th>NORTH</th>\n",
       "      <td>8518</td>\n",
       "      <td>3735</td>\n",
       "      <td>58510</td>\n",
       "      <td>8859</td>\n",
       "      <td>3883</td>\n",
       "      <td>435</td>\n",
       "      <td>201</td>\n",
       "    </tr>\n",
       "    <tr>\n",
       "      <th>TORONTO</th>\n",
       "      <td>32391</td>\n",
       "      <td>22251</td>\n",
       "      <td>136786</td>\n",
       "      <td>38065</td>\n",
       "      <td>25158</td>\n",
       "      <td>7236</td>\n",
       "      <td>4160</td>\n",
       "    </tr>\n",
       "    <tr>\n",
       "      <th>WEST</th>\n",
       "      <td>56399</td>\n",
       "      <td>34956</td>\n",
       "      <td>274180</td>\n",
       "      <td>62808</td>\n",
       "      <td>37824</td>\n",
       "      <td>7873</td>\n",
       "      <td>3969</td>\n",
       "    </tr>\n",
       "  </tbody>\n",
       "</table>\n",
       "</div>"
      ],
      "text/plain": [
       "           icu_current_covid  icu_current_covid_vented  hospitalizations  \\\n",
       "oh_region                                                                  \n",
       "CENTRAL                58280                     37655            284376   \n",
       "EAST                   42420                     24104            193348   \n",
       "NORTH                   8518                      3735             58510   \n",
       "TORONTO                32391                     22251            136786   \n",
       "WEST                   56399                     34956            274180   \n",
       "\n",
       "           icu_crci_total  icu_crci_total_vented  icu_former_covid  \\\n",
       "oh_region                                                            \n",
       "CENTRAL             62731                  39960              6881   \n",
       "EAST                46877                  25977              5815   \n",
       "NORTH                8859                   3883               435   \n",
       "TORONTO             38065                  25158              7236   \n",
       "WEST                62808                  37824              7873   \n",
       "\n",
       "           icu_former_covid_vented  \n",
       "oh_region                           \n",
       "CENTRAL                       4257  \n",
       "EAST                          2928  \n",
       "NORTH                          201  \n",
       "TORONTO                       4160  \n",
       "WEST                          3969  "
      ]
     },
     "execution_count": 49,
     "metadata": {},
     "output_type": "execute_result"
    }
   ],
   "source": [
    "region_icu_df.groupby(by=['oh_region']).sum()"
   ]
  },
  {
   "cell_type": "code",
   "execution_count": 50,
   "id": "3df52d89",
   "metadata": {},
   "outputs": [
    {
     "data": {
      "text/html": [
       "<div>\n",
       "<style scoped>\n",
       "    .dataframe tbody tr th:only-of-type {\n",
       "        vertical-align: middle;\n",
       "    }\n",
       "\n",
       "    .dataframe tbody tr th {\n",
       "        vertical-align: top;\n",
       "    }\n",
       "\n",
       "    .dataframe thead th {\n",
       "        text-align: right;\n",
       "    }\n",
       "</style>\n",
       "<table border=\"1\" class=\"dataframe\">\n",
       "  <thead>\n",
       "    <tr style=\"text-align: right;\">\n",
       "      <th></th>\n",
       "      <th>icu_current_covid</th>\n",
       "      <th>icu_current_covid_vented</th>\n",
       "      <th>hospitalizations</th>\n",
       "      <th>icu_crci_total</th>\n",
       "      <th>icu_crci_total_vented</th>\n",
       "      <th>icu_former_covid</th>\n",
       "      <th>icu_former_covid_vented</th>\n",
       "    </tr>\n",
       "    <tr>\n",
       "      <th>oh_region</th>\n",
       "      <th></th>\n",
       "      <th></th>\n",
       "      <th></th>\n",
       "      <th></th>\n",
       "      <th></th>\n",
       "      <th></th>\n",
       "      <th></th>\n",
       "    </tr>\n",
       "  </thead>\n",
       "  <tbody>\n",
       "    <tr>\n",
       "      <th>CENTRAL</th>\n",
       "      <td>56.254826</td>\n",
       "      <td>36.346525</td>\n",
       "      <td>274.494208</td>\n",
       "      <td>60.551158</td>\n",
       "      <td>38.571429</td>\n",
       "      <td>6.641892</td>\n",
       "      <td>4.109073</td>\n",
       "    </tr>\n",
       "    <tr>\n",
       "      <th>EAST</th>\n",
       "      <td>40.945946</td>\n",
       "      <td>23.266409</td>\n",
       "      <td>186.629344</td>\n",
       "      <td>45.248069</td>\n",
       "      <td>25.074324</td>\n",
       "      <td>5.612934</td>\n",
       "      <td>2.826255</td>\n",
       "    </tr>\n",
       "    <tr>\n",
       "      <th>NORTH</th>\n",
       "      <td>8.222008</td>\n",
       "      <td>3.605212</td>\n",
       "      <td>56.476834</td>\n",
       "      <td>8.551158</td>\n",
       "      <td>3.748069</td>\n",
       "      <td>0.419884</td>\n",
       "      <td>0.194015</td>\n",
       "    </tr>\n",
       "    <tr>\n",
       "      <th>TORONTO</th>\n",
       "      <td>31.265444</td>\n",
       "      <td>21.477799</td>\n",
       "      <td>132.032819</td>\n",
       "      <td>36.742278</td>\n",
       "      <td>24.283784</td>\n",
       "      <td>6.984556</td>\n",
       "      <td>4.015444</td>\n",
       "    </tr>\n",
       "    <tr>\n",
       "      <th>WEST</th>\n",
       "      <td>54.439189</td>\n",
       "      <td>33.741313</td>\n",
       "      <td>264.652510</td>\n",
       "      <td>60.625483</td>\n",
       "      <td>36.509653</td>\n",
       "      <td>7.599421</td>\n",
       "      <td>3.831081</td>\n",
       "    </tr>\n",
       "  </tbody>\n",
       "</table>\n",
       "</div>"
      ],
      "text/plain": [
       "           icu_current_covid  icu_current_covid_vented  hospitalizations  \\\n",
       "oh_region                                                                  \n",
       "CENTRAL            56.254826                 36.346525        274.494208   \n",
       "EAST               40.945946                 23.266409        186.629344   \n",
       "NORTH               8.222008                  3.605212         56.476834   \n",
       "TORONTO            31.265444                 21.477799        132.032819   \n",
       "WEST               54.439189                 33.741313        264.652510   \n",
       "\n",
       "           icu_crci_total  icu_crci_total_vented  icu_former_covid  \\\n",
       "oh_region                                                            \n",
       "CENTRAL         60.551158              38.571429          6.641892   \n",
       "EAST            45.248069              25.074324          5.612934   \n",
       "NORTH            8.551158               3.748069          0.419884   \n",
       "TORONTO         36.742278              24.283784          6.984556   \n",
       "WEST            60.625483              36.509653          7.599421   \n",
       "\n",
       "           icu_former_covid_vented  \n",
       "oh_region                           \n",
       "CENTRAL                   4.109073  \n",
       "EAST                      2.826255  \n",
       "NORTH                     0.194015  \n",
       "TORONTO                   4.015444  \n",
       "WEST                      3.831081  "
      ]
     },
     "execution_count": 50,
     "metadata": {},
     "output_type": "execute_result"
    }
   ],
   "source": [
    "region_icu_df.groupby(by=['oh_region']).mean()"
   ]
  },
  {
   "cell_type": "code",
   "execution_count": 51,
   "id": "309afa56",
   "metadata": {},
   "outputs": [
    {
     "data": {
      "text/plain": [
       "Text(0.5, 1.0, 'Mean of Covid Patients in Each Region')"
      ]
     },
     "execution_count": 51,
     "metadata": {},
     "output_type": "execute_result"
    },
    {
     "data": {
      "image/png": "[encoded data removed]",
      "text/plain": [
       "<Figure size 640x480 with 1 Axes>"
      ]
     },
     "metadata": {},
     "output_type": "display_data"
    }
   ],
   "source": [
    "regions = ['CENTRAL', 'EAST', 'NORTH', 'TORONTO', 'WEST']\n",
    "current_covid = [56.254826,40.945946,8.222008,31.265444,54.439189]\n",
    "colors = ['red','orange','yellow','green','blue']\n",
    "explode = (0.1,0,0,0,0)\n",
    "\n",
    "plt.pie(current_covid,explode=explode,labels=regions,colors=colors,autopct=\"%1.1f%%\", shadow=True, startangle=120)\n",
    "plt.axis(\"equal\")\n",
    "plt.title(\"Mean of Covid Patients in Each Region\")"
   ]
  },
  {
   "cell_type": "code",
   "execution_count": 52,
   "id": "5feb410d",
   "metadata": {},
   "outputs": [],
   "source": [
    "regions = ['CENTRAL', 'EAST', 'NORTH', 'TORONTO', 'WEST']\n",
    "current_covid = [58280,42420,8518,32391,56399]\n",
    "colors = ['red','orange','yellow','green','blue']\n",
    "explode = (0.1,0,0,0,0)"
   ]
  },
  {
   "cell_type": "code",
   "execution_count": 53,
   "id": "6b62e790",
   "metadata": {},
   "outputs": [
    {
     "data": {
      "text/plain": [
       "Text(0.5, 1.0, 'Sum of Covid Patients in Each Region')"
      ]
     },
     "execution_count": 53,
     "metadata": {},
     "output_type": "execute_result"
    },
    {
     "data": {
      "image/png": "[encoded data removed]",
      "text/plain": [
       "<Figure size 640x480 with 1 Axes>"
      ]
     },
     "metadata": {},
     "output_type": "display_data"
    }
   ],
   "source": [
    "plt.pie(current_covid,explode=explode,labels=regions,colors=colors,autopct=\"%1.1f%%\", shadow=True, startangle=120)\n",
    "plt.axis(\"equal\")\n",
    "plt.title(\"Sum of Covid Patients in Each Region\")"
   ]
  },
  {
   "cell_type": "code",
   "execution_count": 54,
   "id": "cea03eb0",
   "metadata": {},
   "outputs": [
    {
     "data": {
      "text/plain": [
       "Text(0.5, 1.0, 'Hospitalizations in Each Region')"
      ]
     },
     "execution_count": 54,
     "metadata": {},
     "output_type": "execute_result"
    },
    {
     "data": {
      "image/png": "[encoded data removed]",
      "text/plain": [
       "<Figure size 640x480 with 1 Axes>"
      ]
     },
     "metadata": {},
     "output_type": "display_data"
    }
   ],
   "source": [
    "regions = ['CENTRAL', 'EAST', 'NORTH', 'TORONTO', 'WEST']\n",
    "hospitalizations = [284376,193348,58510,136786,274180]\n",
    "colors = ['red','orange','yellow','green','blue']\n",
    "explode = (0.1,0,0,0,0)\n",
    "\n",
    "plt.pie(hospitalizations,explode=explode,labels=regions,colors=colors,autopct=\"%1.1f%%\", shadow=True, startangle=120)\n",
    "plt.axis(\"equal\")\n",
    "plt.title(\"Hospitalizations in Each Region\")"
   ]
  },
  {
   "cell_type": "code",
   "execution_count": 55,
   "id": "cfc76a7d",
   "metadata": {},
   "outputs": [],
   "source": [
    "#from the data, we can see that the number of hospitalizations correlate with the ICU beds \n",
    "#being used in each region"
   ]
  },
  {
   "cell_type": "code",
   "execution_count": 56,
   "id": "2efaebea",
   "metadata": {},
   "outputs": [
    {
     "data": {
      "text/html": [
       "<div>\n",
       "<style scoped>\n",
       "    .dataframe tbody tr th:only-of-type {\n",
       "        vertical-align: middle;\n",
       "    }\n",
       "\n",
       "    .dataframe tbody tr th {\n",
       "        vertical-align: top;\n",
       "    }\n",
       "\n",
       "    .dataframe thead th {\n",
       "        text-align: right;\n",
       "    }\n",
       "</style>\n",
       "<table border=\"1\" class=\"dataframe\">\n",
       "  <thead>\n",
       "    <tr style=\"text-align: right;\">\n",
       "      <th></th>\n",
       "      <th>icu_current_covid</th>\n",
       "      <th>icu_current_covid_vented</th>\n",
       "      <th>icu_crci_total</th>\n",
       "      <th>icu_crci_total_vented</th>\n",
       "      <th>icu_former_covid</th>\n",
       "      <th>icu_former_covid_vented</th>\n",
       "    </tr>\n",
       "    <tr>\n",
       "      <th>hospitalizations</th>\n",
       "      <th></th>\n",
       "      <th></th>\n",
       "      <th></th>\n",
       "      <th></th>\n",
       "      <th></th>\n",
       "      <th></th>\n",
       "    </tr>\n",
       "  </thead>\n",
       "  <tbody>\n",
       "    <tr>\n",
       "      <th>0</th>\n",
       "      <td>9</td>\n",
       "      <td>7</td>\n",
       "      <td>9</td>\n",
       "      <td>7</td>\n",
       "      <td>0</td>\n",
       "      <td>0</td>\n",
       "    </tr>\n",
       "    <tr>\n",
       "      <th>1</th>\n",
       "      <td>11</td>\n",
       "      <td>8</td>\n",
       "      <td>18</td>\n",
       "      <td>12</td>\n",
       "      <td>7</td>\n",
       "      <td>4</td>\n",
       "    </tr>\n",
       "    <tr>\n",
       "      <th>2</th>\n",
       "      <td>56</td>\n",
       "      <td>32</td>\n",
       "      <td>84</td>\n",
       "      <td>47</td>\n",
       "      <td>28</td>\n",
       "      <td>15</td>\n",
       "    </tr>\n",
       "    <tr>\n",
       "      <th>3</th>\n",
       "      <td>74</td>\n",
       "      <td>49</td>\n",
       "      <td>134</td>\n",
       "      <td>81</td>\n",
       "      <td>60</td>\n",
       "      <td>32</td>\n",
       "    </tr>\n",
       "    <tr>\n",
       "      <th>4</th>\n",
       "      <td>57</td>\n",
       "      <td>29</td>\n",
       "      <td>127</td>\n",
       "      <td>64</td>\n",
       "      <td>70</td>\n",
       "      <td>35</td>\n",
       "    </tr>\n",
       "    <tr>\n",
       "      <th>...</th>\n",
       "      <td>...</td>\n",
       "      <td>...</td>\n",
       "      <td>...</td>\n",
       "      <td>...</td>\n",
       "      <td>...</td>\n",
       "      <td>...</td>\n",
       "    </tr>\n",
       "    <tr>\n",
       "      <th>1205</th>\n",
       "      <td>191</td>\n",
       "      <td>121</td>\n",
       "      <td>200</td>\n",
       "      <td>124</td>\n",
       "      <td>9</td>\n",
       "      <td>3</td>\n",
       "    </tr>\n",
       "    <tr>\n",
       "      <th>1211</th>\n",
       "      <td>186</td>\n",
       "      <td>120</td>\n",
       "      <td>193</td>\n",
       "      <td>125</td>\n",
       "      <td>7</td>\n",
       "      <td>5</td>\n",
       "    </tr>\n",
       "    <tr>\n",
       "      <th>1221</th>\n",
       "      <td>345</td>\n",
       "      <td>217</td>\n",
       "      <td>355</td>\n",
       "      <td>226</td>\n",
       "      <td>10</td>\n",
       "      <td>9</td>\n",
       "    </tr>\n",
       "    <tr>\n",
       "      <th>1231</th>\n",
       "      <td>194</td>\n",
       "      <td>118</td>\n",
       "      <td>200</td>\n",
       "      <td>123</td>\n",
       "      <td>6</td>\n",
       "      <td>5</td>\n",
       "    </tr>\n",
       "    <tr>\n",
       "      <th>1239</th>\n",
       "      <td>339</td>\n",
       "      <td>216</td>\n",
       "      <td>349</td>\n",
       "      <td>223</td>\n",
       "      <td>10</td>\n",
       "      <td>7</td>\n",
       "    </tr>\n",
       "  </tbody>\n",
       "</table>\n",
       "<p>699 rows × 6 columns</p>\n",
       "</div>"
      ],
      "text/plain": [
       "                  icu_current_covid  icu_current_covid_vented  icu_crci_total  \\\n",
       "hospitalizations                                                                \n",
       "0                                 9                         7               9   \n",
       "1                                11                         8              18   \n",
       "2                                56                        32              84   \n",
       "3                                74                        49             134   \n",
       "4                                57                        29             127   \n",
       "...                             ...                       ...             ...   \n",
       "1205                            191                       121             200   \n",
       "1211                            186                       120             193   \n",
       "1221                            345                       217             355   \n",
       "1231                            194                       118             200   \n",
       "1239                            339                       216             349   \n",
       "\n",
       "                  icu_crci_total_vented  icu_former_covid  \\\n",
       "hospitalizations                                            \n",
       "0                                     7                 0   \n",
       "1                                    12                 7   \n",
       "2                                    47                28   \n",
       "3                                    81                60   \n",
       "4                                    64                70   \n",
       "...                                 ...               ...   \n",
       "1205                                124                 9   \n",
       "1211                                125                 7   \n",
       "1221                                226                10   \n",
       "1231                                123                 6   \n",
       "1239                                223                10   \n",
       "\n",
       "                  icu_former_covid_vented  \n",
       "hospitalizations                           \n",
       "0                                       0  \n",
       "1                                       4  \n",
       "2                                      15  \n",
       "3                                      32  \n",
       "4                                      35  \n",
       "...                                   ...  \n",
       "1205                                    3  \n",
       "1211                                    5  \n",
       "1221                                    9  \n",
       "1231                                    5  \n",
       "1239                                    7  \n",
       "\n",
       "[699 rows x 6 columns]"
      ]
     },
     "execution_count": 56,
     "metadata": {},
     "output_type": "execute_result"
    }
   ],
   "source": [
    "region_icu_df.groupby(by=['hospitalizations']).sum()"
   ]
  },
  {
   "cell_type": "code",
   "execution_count": 57,
   "id": "3d860540",
   "metadata": {},
   "outputs": [
    {
     "data": {
      "text/plain": [
       "array(['2020-04-02', '2020-04-03', '2020-04-04', ..., '2023-01-31',\n",
       "       '2023-02-01', '2023-02-02'], dtype=object)"
      ]
     },
     "execution_count": 57,
     "metadata": {},
     "output_type": "execute_result"
    }
   ],
   "source": [
    "region_icu_df.date.unique()"
   ]
  },
  {
   "cell_type": "code",
   "execution_count": null,
   "id": "a340edfa",
   "metadata": {},
   "outputs": [],
   "source": [
    "plt.scatter(region_icu_df['date'],region_icu_df['icu_current_covid'])\n",
    "plt.xlabel(\"date\")\n",
    "plt.ylabel(\"ICU Current Covid\")\n",
    "plt.show()"
   ]
  },
  {
   "cell_type": "code",
   "execution_count": null,
   "id": "794ad60a",
   "metadata": {},
   "outputs": [],
   "source": [
    "plt.plot(region_icu_df['date'],region_icu_df['icu_current_covid'])\n",
    "plt.xlabel(\"date\")\n",
    "plt.ylabel(\"ICU Current Covid\")\n",
    "plt.show()"
   ]
  },
  {
   "cell_type": "code",
   "execution_count": null,
   "id": "0d48f2c4",
   "metadata": {},
   "outputs": [],
   "source": [
    "plt.scatter(region_icu_df['date'],region_icu_df['hospitalizations'])\n",
    "plt.xlabel(\"date\")\n",
    "plt.ylabel(\"Hospitalizations\")\n",
    "plt.show()"
   ]
  },
  {
   "cell_type": "code",
   "execution_count": null,
   "id": "86d09396",
   "metadata": {},
   "outputs": [],
   "source": [
    "plt.plot(region_icu_df['date'],region_icu_df['icu_current_covid'])\n",
    "plt.plot(region_icu_df['date'],region_icu_df['hospitalizations'])\n",
    "plt.show()"
   ]
  },
  {
   "cell_type": "code",
   "execution_count": null,
   "id": "06109350",
   "metadata": {},
   "outputs": [],
   "source": [
    "plt.plot(region_icu_df['date'],region_icu_df['icu_current_covid'])\n",
    "plt.plot(region_icu_df['date'],region_icu_df['icu_current_covid_vented'])\n",
    "plt.show()"
   ]
  },
  {
   "cell_type": "code",
   "execution_count": null,
   "id": "94787412",
   "metadata": {},
   "outputs": [],
   "source": [
    "total = region_icu_df['icu_current_covid'].sum()\n",
    "print(total)"
   ]
  },
  {
   "cell_type": "code",
   "execution_count": null,
   "id": "bb0792ad",
   "metadata": {},
   "outputs": [],
   "source": [
    "total = region_icu_df['icu_current_covid_vented'].sum()\n",
    "print(total)"
   ]
  },
  {
   "cell_type": "code",
   "execution_count": null,
   "id": "29860096",
   "metadata": {},
   "outputs": [],
   "source": [
    "total = region_icu_df['hospitalizations'].sum()\n",
    "print(total)"
   ]
  },
  {
   "cell_type": "code",
   "execution_count": null,
   "id": "d7fa41f2",
   "metadata": {},
   "outputs": [],
   "source": [
    "types = [\"icu_current_covid\",\"icu_current_covid_vented\",\"hospitalizations\"]\n",
    "totals = [198008,122701,947200]\n",
    "\n",
    "plt.bar(types, totals, color='r', alpha=0.5, align=\"center\")\n",
    "plt.title(\"Total Types of ICU\")\n",
    "plt.xlabel(\"types of ICU\")\n",
    "plt.ylabel(\"Patient total\")"
   ]
  },
  {
   "cell_type": "code",
   "execution_count": null,
   "id": "440552df",
   "metadata": {},
   "outputs": [],
   "source": []
  },
  {
   "cell_type": "code",
   "execution_count": null,
   "id": "8734d797",
   "metadata": {},
   "outputs": [],
   "source": []
  },
  {
   "cell_type": "code",
   "execution_count": null,
   "id": "9208a659",
   "metadata": {},
   "outputs": [],
   "source": []
  }
 ],
 "metadata": {
  "kernelspec": {
   "display_name": "Python 3 (ipykernel)",
   "language": "python",
   "name": "python3"
  },
  "language_info": {
   "codemirror_mode": {
    "name": "ipython",
    "version": 3
   },
   "file_extension": ".py",
   "mimetype": "text/x-python",
   "name": "python",
   "nbconvert_exporter": "python",
   "pygments_lexer": "ipython3",
   "version": "3.9.13"
  }
 },
 "nbformat": 4,
 "nbformat_minor": 5
}
